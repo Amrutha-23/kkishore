{
 "cells": [
  {
   "cell_type": "code",
   "execution_count": 3,
   "metadata": {},
   "outputs": [
    {
     "name": "stdout",
     "output_type": "stream",
     "text": [
      "enter the length of the array4\n",
      "enter the element1:9\n",
      "enter the element2:4\n",
      "enter the element3:9\n",
      "enter the element4:2\n",
      "the array elements are [9, 4, 9, 2]\n",
      "enter the elements to be search6\n",
      "search is unsuccessfull\n",
      "My USN:1BY19MCA24\n"
     ]
    }
   ],
   "source": [
    "li=[]\n",
    "n=int(input(\"enter the length of the array\"))\n",
    "flag=0\n",
    "count=0\n",
    "for i in range(n):\n",
    "    x=int(input(\"enter the element\"+str(i+1)+\":\"))\n",
    "    li.append(x)\n",
    "print(\"the array elements are\",li)\n",
    "item=int(input(\"enter the elements to be search\"))\n",
    "for i in li:\n",
    "    count=count+1\n",
    "    if(item==i):\n",
    "        flag=1\n",
    "        break\n",
    "if(flag==1):\n",
    "    print(\"search is successfull and found at\",count)\n",
    "else:\n",
    "    print(\"search is unsuccessfull\")\n",
    "print(\"My USN:1BY19MCA24\")\n",
    "    "
   ]
  },
  {
   "cell_type": "code",
   "execution_count": null,
   "metadata": {},
   "outputs": [],
   "source": []
  }
 ],
 "metadata": {
  "kernelspec": {
   "display_name": "Python 3",
   "language": "python",
   "name": "python3"
  },
  "language_info": {
   "codemirror_mode": {
    "name": "ipython",
    "version": 3
   },
   "file_extension": ".py",
   "mimetype": "text/x-python",
   "name": "python",
   "nbconvert_exporter": "python",
   "pygments_lexer": "ipython3",
   "version": "3.7.4"
  }
 },
 "nbformat": 4,
 "nbformat_minor": 2
}
